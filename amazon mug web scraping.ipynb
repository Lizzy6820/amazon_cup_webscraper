{
 "cells": [
  {
   "cell_type": "code",
   "execution_count": 2,
   "metadata": {},
   "outputs": [
    {
     "name": "stdout",
     "output_type": "stream",
     "text": [
      "\n",
      "\n",
      "\n",
      "\n",
      "\n",
      "            Tetris Heat Changing Mug - Officially Licensed Merchandise\n",
      "           \n",
      "\n",
      "\n",
      "\n",
      "\n",
      "\n",
      "\n",
      "\n",
      "\n",
      "\n",
      "\n",
      "              Price:\n",
      "             \n",
      "\n",
      "\n",
      "\n",
      "                $13.99\n",
      "               \n",
      "\n",
      "                $13.99\n",
      "               \n",
      "\n",
      "\n",
      "\n",
      "\n",
      "\n",
      "\n",
      "\n",
      "\n",
      "\n",
      "\n",
      "\n",
      "\n",
      "\n",
      "\n",
      "\n",
      "\n",
      "\n",
      "\n",
      "\n",
      "\n",
      "\n",
      "\n",
      "\n",
      "\n",
      "\n",
      "\n",
      "\n",
      "\n",
      "\n",
      "\n",
      "\n",
      "                4.6 out of 5 stars\n",
      "               \n",
      "\n",
      "\n",
      "\n",
      "\n",
      "\n",
      "\n",
      "\n",
      "\n",
      "\n",
      "\n",
      "\n",
      "\n",
      "\n",
      "\n",
      "             224 ratings\n",
      "            \n",
      "\n",
      "\n",
      "\n",
      "\n",
      "\n"
     ]
    }
   ],
   "source": [
    "\n",
    "from bs4 import BeautifulSoup\n",
    "import requests \n",
    "import smtplib\n",
    "import datetime\n",
    "import time\n",
    "import pandas as pd\n",
    "\n",
    "\n",
    "#connect to amazon website on samsung tablet web page\n",
    "url = 'https://www.amazon.com/Tetris-Heat-Changing-Ceramic-Coffee/dp/B0851Y9J6C/ref=sr_1_3?keywords=gaming+mugs&pd_rd_r=d2beca00-c131-4c1a-b78e-2e9eac414ab3&pd_rd_w=fR1dn&pd_rd_wg=goavE&pf_rd_p=09483392-9ac6-434a-a3d7-39d83662f54a&pf_rd_r=N66MY0RSD630XQDKGQXB&qid=1655788846&s=kitchen-intl-ship&sr=1-3'\n",
    "\n",
    "headers = {\"User-Agent\": \"Mozilla/5.0 (Windows NT 10.0; Win64; x64) AppleWebKit/537.36 (KHTML, like Gecko) Chrome/102.0.0.0 Safari/537.36\",\"Accept-Encoding\":\"gzip, deflate\", \"Accept\":\"text/html,application/xhtml+xml,application/xml;q=0.9,*/*;q=0.8\", \"DNT\":\"1\",\"Connection\":\"close\", \"Upgrade-Insecure-Requests\":\"1\"}\n",
    "page = requests.get(url, headers=headers)\n",
    "#get html\n",
    "soup1 = BeautifulSoup(page.content, \"html.parser\")\n",
    "#format html from soup1\n",
    "soup2 = BeautifulSoup(soup1.prettify(), \"html.parser\")\n",
    "#get item title\n",
    "title = soup2.find(id='title_feature_div').get_text()\n",
    "#get item price\n",
    "price = soup2.find(id='corePrice_desktop').get_text()\n",
    "#get item reviews\n",
    "review = soup2.find(id='averageCustomerReviews').get_text()\n",
    "print(title)\n",
    "print(price)\n",
    "print(review)\n",
    "\n"
   ]
  },
  {
   "cell_type": "code",
   "execution_count": 3,
   "metadata": {},
   "outputs": [
    {
     "name": "stdout",
     "output_type": "stream",
     "text": [
      "Tetris Heat Changing Mug - Officially Licensed Merchandise\n",
      "13.99\n",
      "4.6\n"
     ]
    }
   ],
   "source": [
    "# Clean up the data \n",
    "\n",
    "title = title.strip()\n",
    "price = price.strip()[-5:]\n",
    "review = review.strip()[:3]\n",
    "\n",
    "print(title)\n",
    "print(price)\n",
    "print(review)"
   ]
  },
  {
   "cell_type": "code",
   "execution_count": 4,
   "metadata": {},
   "outputs": [
    {
     "name": "stdout",
     "output_type": "stream",
     "text": [
      "2022-06-21\n"
     ]
    }
   ],
   "source": [
    "# Create a Timestamp for your output to track when data was collected\n",
    "\n",
    "import datetime\n",
    "\n",
    "today = datetime.date.today()\n",
    "\n",
    "print(today)"
   ]
  },
  {
   "cell_type": "code",
   "execution_count": 5,
   "metadata": {},
   "outputs": [],
   "source": [
    "# Initial creation of CSV and write headers and data into the file\n",
    "\n",
    "import csv \n",
    "\n",
    "header = ['Title', 'Price', 'Review','Date']\n",
    "data = [title, price, review, today]\n",
    "with open('AmazonWebScraperDataset1.csv', 'w', newline='', encoding='UTF8') as f:\n",
    "    writer = csv.writer(f)\n",
    "    writer.writerow(header)\n",
    "    writer.writerow(data)\n"
   ]
  },
  {
   "cell_type": "code",
   "execution_count": 6,
   "metadata": {},
   "outputs": [
    {
     "name": "stdout",
     "output_type": "stream",
     "text": [
      "                                               Title  Price  Review  \\\n",
      "0  Tetris Heat Changing Mug - Officially Licensed...  13.99     4.6   \n",
      "\n",
      "         Date  \n",
      "0  2022-06-21  \n"
     ]
    }
   ],
   "source": [
    "#Use Pandas to read CSV file\n",
    "\n",
    "df = pd.read_csv(r\"C:\\Users\\DELL E6400\\Desktop\\amazon web scraping\\AmazonWebScraperDataset1.csv\")\n",
    "\n",
    "print(df)"
   ]
  },
  {
   "cell_type": "code",
   "execution_count": 7,
   "metadata": {},
   "outputs": [],
   "source": [
    "#Appending more data to the csv\n",
    "\n",
    "with open('AmazonWebScraperDataset1.csv', 'a+', newline='', encoding='UTF8') as f:\n",
    "    writer = csv.writer(f)\n",
    "    writer.writerow(data)"
   ]
  },
  {
   "cell_type": "code",
   "execution_count": 8,
   "metadata": {},
   "outputs": [],
   "source": [
    "#Automate the process by transforming it into a function\n",
    "def check_price():\n",
    " \n",
    " url = 'https://www.amazon.com/Tetris-Heat-Changing-Ceramic-Coffee/dp/B0851Y9J6C/ref=sr_1_3?keywords=gaming+mugs&pd_rd_r=d2beca00-c131-4c1a-b78e-2e9eac414ab3&pd_rd_w=fR1dn&pd_rd_wg=goavE&pf_rd_p=09483392-9ac6-434a-a3d7-39d83662f54a&pf_rd_r=N66MY0RSD630XQDKGQXB&qid=1655788846&s=kitchen-intl-ship&sr=1-3'\n",
    "\n",
    "headers = {\"User-Agent\": \"Mozilla/5.0 (Windows NT 10.0; Win64; x64) AppleWebKit/537.36 (KHTML, like Gecko) Chrome/102.0.0.0 Safari/537.36\",\"Accept-Encoding\":\"gzip, deflate\", \"Accept\":\"text/html,application/xhtml+xml,application/xml;q=0.9,*/*;q=0.8\", \"DNT\":\"1\",\"Connection\":\"close\", \"Upgrade-Insecure-Requests\":\"1\"}\n",
    "page = requests.get(url, headers=headers)\n",
    "\n",
    "soup1 = BeautifulSoup(page.content, \"html.parser\")\n",
    "\n",
    "soup2 = BeautifulSoup(soup1.prettify(), \"html.parser\")\n",
    "\n",
    "title = soup2.find(id='title_feature_div').get_text()\n",
    "\n",
    "price = soup2.find(id='corePrice_desktop').get_text()\n",
    "\n",
    "review = soup2.find(id='averageCustomerReviews').get_text()\n",
    "\n",
    "title = title.strip()\n",
    "\n",
    "price = price.strip()[-5:]\n",
    "\n",
    "review = review.strip()[:3]\n",
    "\n",
    "import datetime\n",
    "\n",
    "today = datetime.date.today()\n",
    "import csv \n",
    "\n",
    "header = ['Title', 'Price', 'Review','Date']\n",
    "data = [title, price, review, today]\n",
    "\n",
    "with open('AmazonWebScraperDataset1.csv', 'a+', newline='', encoding='UTF8') as f:\n",
    "    writer = csv.writer(f)\n",
    "    writer.writerow(data)\n",
    "\n",
    "    "
   ]
  },
  {
   "cell_type": "code",
   "execution_count": 9,
   "metadata": {},
   "outputs": [
    {
     "ename": "KeyboardInterrupt",
     "evalue": "",
     "output_type": "error",
     "traceback": [
      "\u001b[1;31m---------------------------------------------------------------------------\u001b[0m",
      "\u001b[1;31mKeyboardInterrupt\u001b[0m                         Traceback (most recent call last)",
      "\u001b[1;32mUntitled-1.ipynb Cell 8'\u001b[0m in \u001b[0;36m<cell line: 4>\u001b[1;34m()\u001b[0m\n\u001b[0;32m      <a href='vscode-notebook-cell:Untitled-1.ipynb?jupyter-notebook#ch0000008untitled?line=2'>3</a>\u001b[0m \u001b[39mwhile\u001b[39;00m(\u001b[39mTrue\u001b[39;00m):\n\u001b[0;32m      <a href='vscode-notebook-cell:Untitled-1.ipynb?jupyter-notebook#ch0000008untitled?line=3'>4</a>\u001b[0m     check_price()\n\u001b[1;32m----> <a href='vscode-notebook-cell:Untitled-1.ipynb?jupyter-notebook#ch0000008untitled?line=4'>5</a>\u001b[0m     time\u001b[39m.\u001b[39;49msleep(\u001b[39m5\u001b[39;49m)\n",
      "\u001b[1;31mKeyboardInterrupt\u001b[0m: "
     ]
    }
   ],
   "source": [
    "# Runs check_price after a set time and inputs data into the CSV\n",
    "\n",
    "while(True):\n",
    "    check_price(\"C:\\Users\\DELL E6400\\Desktop\\amazon web scraping\\AmazonWebScraperDataset1.csv\")\n",
    "    time.sleep(86400)"
   ]
  },
  {
   "cell_type": "code",
   "execution_count": null,
   "metadata": {},
   "outputs": [],
   "source": [
    "import pandas as pd\n",
    "\n",
    "df = pd.read_csv(r'')\n",
    "\n",
    "print(df)"
   ]
  },
  {
   "cell_type": "code",
   "execution_count": null,
   "metadata": {},
   "outputs": [],
   "source": [
    "def send_mail():\n",
    "    server = smtplib.SMTP_SSL('smtp.gmail.com',465)\n",
    "    server.ehlo()\n",
    "    #server.starttls()\n",
    "    server.ehlo()\n",
    "    server.login('dianalizakish@gmail.com','xxxxxxxxxxxxxx')\n",
    "    \n",
    "    subject = \"The mug you want is below $10! Now is your chance to buy!\"\n",
    "    body = \"Liz, This is the moment we have been waiting for. Now is your chance to pick up the shirt of your dreams. Don't mess it up! Link here: https://www.amazon.com/Funny-Data-Systems-Business-Analyst/dp/B07FNW9FGJ/ref=sr_1_3?dchild=1&keywords=data+analyst+tshirt&qid=1626655184&sr=8-3\"\n",
    "   \n",
    "    msg = f\"Subject: {subject}\\n\\n{body}\"\n",
    "    \n",
    "    server.sendmail(\n",
    "        'dianalizakish@gmail.com',\n",
    "        msg\n",
    "     \n",
    "    )"
   ]
  }
 ],
 "metadata": {
  "kernelspec": {
   "display_name": "Python 3.9.12 ('myenv')",
   "language": "python",
   "name": "python3"
  },
  "language_info": {
   "codemirror_mode": {
    "name": "ipython",
    "version": 3
   },
   "file_extension": ".py",
   "mimetype": "text/x-python",
   "name": "python",
   "nbconvert_exporter": "python",
   "pygments_lexer": "ipython3",
   "version": "3.9.12"
  },
  "orig_nbformat": 4,
  "vscode": {
   "interpreter": {
    "hash": "e610579c5279bc294121a059b01724c76239779ee2a03c0bd76987ebb82e5e27"
   }
  }
 },
 "nbformat": 4,
 "nbformat_minor": 2
}
